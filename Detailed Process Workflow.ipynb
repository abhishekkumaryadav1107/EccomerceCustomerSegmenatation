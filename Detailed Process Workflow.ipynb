{
 "cells": [
  {
   "cell_type": "markdown",
   "metadata": {},
   "source": [
    "1. **Data Preparation**\n",
    "\n",
    "\n",
    "2. **Exploring the Contents of variables**\n",
    "    \n",
    "    \n",
    "* Countries\n",
    "* Customers and products\n",
    "\n",
    "    * Cancelling orders\n",
    "    * StockCode\n",
    "    * Basket price\n",
    "    \n",
    "    \n",
    "3. **Insight on product categories**\n",
    "    \n",
    "    \n",
    "* Product description\n",
    "* Defining product categories\n",
    "    \n",
    "     * Data encoding\n",
    "     * Clusters of products\n",
    "     * Characterizing the content of clusters\n",
    "     \n",
    "     \n",
    "4. **Customer categories**\n",
    "\n",
    "\n",
    "* Formating data\n",
    "    * Grouping products\n",
    "    * Time spliting of the dataset\n",
    "    * Grouping orders\n",
    "    \n",
    "* Creating customer categories\n",
    "    * Data enconding\n",
    "    * Creating categories\n",
    "    \n",
    "\n",
    "5. **Classifying customers**\n",
    "\n",
    "\n",
    "* Support Vector Machine Classifier (SVC)\n",
    "    * Confusion matrix\n",
    "    * Leraning curves\n",
    "    * Logistic regression\n",
    "    * k-Nearest Neighbors\n",
    "    * Decision Tree\n",
    "    * Random Forest\n",
    "    * AdaBoost\n",
    "    * Gradient Boosting Classifier\n",
    "    * Let's vote !\n",
    "    \n",
    "    \n",
    "6. **Testing the predictions**\n",
    "\n",
    "\n",
    "7. **Conclusion**"
   ]
  },
  {
   "cell_type": "code",
   "execution_count": null,
   "metadata": {},
   "outputs": [],
   "source": []
  }
 ],
 "metadata": {
  "kernelspec": {
   "display_name": "Python 3",
   "language": "python",
   "name": "python3"
  },
  "language_info": {
   "codemirror_mode": {
    "name": "ipython",
    "version": 3
   },
   "file_extension": ".py",
   "mimetype": "text/x-python",
   "name": "python",
   "nbconvert_exporter": "python",
   "pygments_lexer": "ipython3",
   "version": "3.7.3"
  }
 },
 "nbformat": 4,
 "nbformat_minor": 2
}
